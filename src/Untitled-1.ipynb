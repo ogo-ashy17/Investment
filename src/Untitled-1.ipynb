{
 "cells": [
  {
   "cell_type": "markdown",
   "id": "f4c9f3d1",
   "metadata": {},
   "source": [
    "# yfinanceを使って2025年1月以降の各国の指数を可視化して，パフォーマンスを比較するプログラムを作成する。"
   ]
  },
  {
   "cell_type": "markdown",
   "id": "03a6feff",
   "metadata": {},
   "source": [
    "## 必要なライブラリのインポート"
   ]
  },
  {
   "cell_type": "code",
   "execution_count": null,
   "id": "6eae907d",
   "metadata": {},
   "outputs": [],
   "source": [
    "import yfinance as yf\n",
    "import matplotlib.pyplot as plt\n",
    "import scipy.stats as stats\n",
    "import datetime"
   ]
  },
  {
   "cell_type": "markdown",
   "id": "ded53275",
   "metadata": {},
   "source": [
    "## ティッカーシンボルの設定"
   ]
  },
  {
   "cell_type": "code",
   "execution_count": null,
   "id": "2cfb2a33",
   "metadata": {},
   "outputs": [],
   "source": [
    "nikkei = yf.Ticker('^N225')\n",
    "dow = yf.Ticker('^DJI')\n",
    "sp500 = yf.Ticker('^GSPC')\n",
    "nasdaq = yf.Ticker('^IXIC')\n",
    "russell = yf.Ticker('^RUT')\n",
    "sox = yf.Ticker('^SOX')"
   ]
  },
  {
   "cell_type": "markdown",
   "id": "e9bfdf6d",
   "metadata": {},
   "source": [
    "## データの取得"
   ]
  },
  {
   "cell_type": "code",
   "execution_count": null,
   "id": "2d652b03",
   "metadata": {},
   "outputs": [],
   "source": [
    "nikkei_hist = nikkei.history(period='max')\n",
    "dow_hist = dow.history(period='max')\n",
    "sp500_hist = sp500.history(period='max')\n",
    "nasdaq_hist = nasdaq.history(period='max')\n",
    "russell_hist = russell.history(period='max')\n",
    "sox_hist = sox.history(period='max')"
   ]
  },
  {
   "cell_type": "markdown",
   "id": "caf143fe",
   "metadata": {},
   "source": [
    "## データのフィルタリング（2025年1月以降）"
   ]
  },
  {
   "cell_type": "code",
   "execution_count": null,
   "id": "a2ac1176",
   "metadata": {},
   "outputs": [],
   "source": [
    "start_date = '2025-01-01'\n",
    "nikkei_hist = nikkei_hist.loc[start_date:]\n",
    "dow_hist = dow_hist.loc[start_date:]\n",
    "sp500_hist = sp500_hist.loc[start_date:]\n",
    "nasdaq_hist = nasdaq_hist.loc[start_date:]\n",
    "russell_hist = russell_hist.loc[start_date:]\n",
    "sox_hist = sox_hist.loc[start_date:]"
   ]
  },
  {
   "cell_type": "markdown",
   "id": "950f0d7c",
   "metadata": {},
   "source": [
    "## 各指数のパフォーマンスの標準化"
   ]
  },
  {
   "cell_type": "code",
   "execution_count": null,
   "id": "2cf09436",
   "metadata": {},
   "outputs": [],
   "source": [
    "nikkei_zscore = stats.zscore(nikkei_hist['Close'])\n",
    "dow_zscore = stats.zscore(dow_hist['Close'])\n",
    "sp500_zscore = stats.zscore(sp500_hist['Close'])\n",
    "nasdaq_zscore = stats.zscore(nasdaq_hist['Close'])\n",
    "russell_zscore = stats.zscore(russell_hist['Close'])\n",
    "sox_zscore = stats.zscore(sox_hist['Close'])"
   ]
  },
  {
   "cell_type": "markdown",
   "id": "23ed9c14",
   "metadata": {},
   "source": [
    "## パフォーマンスの可視化"
   ]
  },
  {
   "cell_type": "code",
   "execution_count": null,
   "id": "073f105f",
   "metadata": {},
   "outputs": [],
   "source": [
    "plt.figure(figsize=(20, 5))\n",
    "plt.plot(nikkei_hist.index, nikkei_zscore, label='Nikkei')\n",
    "plt.plot(dow_hist.index, dow_zscore, label='Dow')\n",
    "plt.plot(sp500_hist.index, sp500_zscore, label='S&P500')\n",
    "plt.plot(nasdaq_hist.index, nasdaq_zscore, label='Nasdaq')\n",
    "plt.plot(russell_hist.index, russell_zscore, label='Russell')\n",
    "plt.plot(sox_hist.index, sox_zscore, label='SOX')\n",
    "plt.xticks(rotation=90)\n",
    "plt.legend()\n",
    "plt.title('Global Indices Performance (Standardized)')\n",
    "plt.show()"
   ]
  }
 ],
 "metadata": {
  "language_info": {
   "name": "python"
  }
 },
 "nbformat": 4,
 "nbformat_minor": 5
}
