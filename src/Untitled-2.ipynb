{
 "cells": [
  {
   "cell_type": "markdown",
   "id": "98e601e5",
   "metadata": {},
   "source": [
    "# yfinanceを使って2025年1月以降の各国の指数を可視化してパフォーマンスを比較するプログラム"
   ]
  },
  {
   "cell_type": "markdown",
   "id": "ee13bfa8",
   "metadata": {},
   "source": [
    "## 必要なライブラリのインポート"
   ]
  },
  {
   "cell_type": "code",
   "execution_count": null,
   "id": "a8e4770c",
   "metadata": {},
   "outputs": [],
   "source": [
    "import yfinance as yf\n",
    "import matplotlib.pyplot as plt\n",
    "import pandas as pd\n",
    "from datetime import datetime"
   ]
  },
  {
   "cell_type": "markdown",
   "id": "ace1c0e0",
   "metadata": {},
   "source": [
    "## ティッカーシンボルの設定"
   ]
  },
  {
   "cell_type": "code",
   "execution_count": null,
   "id": "960c2e7a",
   "metadata": {},
   "outputs": [],
   "source": [
    "indices = {\n",
    "    'Nikkei 225': '^N225',\n",
    "    'Dow Jones': '^DJI',\n",
    "    'S&P 500': '^GSPC',\n",
    "    'Nasdaq': '^IXIC',\n",
    "    'Russell 2000': '^RUT',\n",
    "    'FTSE 100': '^FTSE',\n",
    "    'DAX': '^GDAXI',\n",
    "    'CAC 40': '^FCHI',\n",
    "    'Hang Seng': '^HSI'\n",
    "}"
   ]
  },
  {
   "cell_type": "markdown",
   "id": "8ae6cc1f",
   "metadata": {},
   "source": [
    "## 株価データの取得"
   ]
  },
  {
   "cell_type": "code",
   "execution_count": null,
   "id": "a7c85675",
   "metadata": {},
   "outputs": [],
   "source": [
    "data = {}\n",
    "for name, ticker in indices.items():\n",
    "    data[name] = yf.Ticker(ticker).history(period='max')"
   ]
  },
  {
   "cell_type": "markdown",
   "id": "57ebb122",
   "metadata": {},
   "source": [
    "## データのフィルタリング（2025年1月以降）"
   ]
  },
  {
   "cell_type": "code",
   "execution_count": null,
   "id": "575545ed",
   "metadata": {},
   "outputs": [],
   "source": [
    "filtered_data = {}\n",
    "start_date = '2025-01-01'\n",
    "for name, df in data.items():\n",
    "    filtered_data[name] = df[df.index >= start_date]"
   ]
  },
  {
   "cell_type": "markdown",
   "id": "5c6cfda7",
   "metadata": {},
   "source": [
    "## 各指数のパフォーマンス比較の可視化"
   ]
  },
  {
   "cell_type": "code",
   "execution_count": null,
   "id": "386362fa",
   "metadata": {},
   "outputs": [],
   "source": [
    "plt.figure(figsize=(15, 8))\n",
    "for name, df in filtered_data.items():\n",
    "    normalized = df['Close'] / df['Close'].iloc[0]  # 正規化\n",
    "    plt.plot(df.index, normalized, label=name)\n",
    "\n",
    "plt.title('Global Indices Performance (2025 Onward)')\n",
    "plt.xlabel('Date')\n",
    "plt.ylabel('Normalized Close Price')\n",
    "plt.legend()\n",
    "plt.grid()\n",
    "plt.show()"
   ]
  }
 ],
 "metadata": {
  "language_info": {
   "name": "python"
  }
 },
 "nbformat": 4,
 "nbformat_minor": 5
}
